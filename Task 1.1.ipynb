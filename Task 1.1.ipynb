{
 "cells": [
  {
   "cell_type": "markdown",
   "id": "6e2cfe26",
   "metadata": {},
   "source": [
    "### Library Loading"
   ]
  },
  {
   "cell_type": "code",
   "execution_count": 24,
   "id": "bd1feb37",
   "metadata": {},
   "outputs": [],
   "source": [
    "import pandas as pd\n",
    "import numpy as np\n",
    "import seaborn as sns"
   ]
  },
  {
   "cell_type": "markdown",
   "id": "0c53b4b9",
   "metadata": {},
   "source": [
    "### NA, Value Check"
   ]
  },
  {
   "cell_type": "code",
   "execution_count": 29,
   "id": "ff777412",
   "metadata": {},
   "outputs": [
    {
     "data": {
      "text/plain": [
       "订单号     0\n",
       "设备ID    0\n",
       "应付金额    0\n",
       "实际金额    0\n",
       "商品      0\n",
       "支付时间    0\n",
       "地点      0\n",
       "状态      0\n",
       "提现      0\n",
       "dtype: int64"
      ]
     },
     "execution_count": 29,
     "metadata": {},
     "output_type": "execute_result"
    }
   ],
   "source": [
    "df1 = pd.read_csv('data1.csv', index_col= False)\n",
    "df1.isna().sum()"
   ]
  },
  {
   "cell_type": "code",
   "execution_count": 30,
   "id": "d7f008d6",
   "metadata": {},
   "outputs": [
    {
     "data": {
      "text/plain": [
       "商品     0\n",
       "大类     0\n",
       "二级类    0\n",
       "dtype: int64"
      ]
     },
     "execution_count": 30,
     "metadata": {},
     "output_type": "execute_result"
    }
   ],
   "source": [
    "df2 = pd.read_csv('data2.csv', index_col=False)\n",
    "df2.isna().sum()"
   ]
  },
  {
   "cell_type": "code",
   "execution_count": 37,
   "id": "4f0639be",
   "metadata": {},
   "outputs": [
    {
     "data": {
      "text/html": [
       "<div>\n",
       "<style scoped>\n",
       "    .dataframe tbody tr th:only-of-type {\n",
       "        vertical-align: middle;\n",
       "    }\n",
       "\n",
       "    .dataframe tbody tr th {\n",
       "        vertical-align: top;\n",
       "    }\n",
       "\n",
       "    .dataframe thead th {\n",
       "        text-align: right;\n",
       "    }\n",
       "</style>\n",
       "<table border=\"1\" class=\"dataframe\">\n",
       "  <thead>\n",
       "    <tr style=\"text-align: right;\">\n",
       "      <th></th>\n",
       "      <th>订单号</th>\n",
       "      <th>设备ID</th>\n",
       "      <th>应付金额</th>\n",
       "      <th>实际金额</th>\n",
       "      <th>商品</th>\n",
       "      <th>支付时间</th>\n",
       "      <th>地点</th>\n",
       "      <th>状态</th>\n",
       "      <th>提现</th>\n",
       "    </tr>\n",
       "  </thead>\n",
       "  <tbody>\n",
       "    <tr>\n",
       "      <th>6181</th>\n",
       "      <td>DD2017081674930418470069710485</td>\n",
       "      <td>E43A6E078A04172</td>\n",
       "      <td>4.5</td>\n",
       "      <td>4.5</td>\n",
       "      <td>52g旺旺仙贝</td>\n",
       "      <td>2017/4/24 18:05</td>\n",
       "      <td>A</td>\n",
       "      <td>已出货未退款</td>\n",
       "      <td>已提现</td>\n",
       "    </tr>\n",
       "    <tr>\n",
       "      <th>21225</th>\n",
       "      <td>DD201708167493446128401232148</td>\n",
       "      <td>E43A6E078A04172</td>\n",
       "      <td>3.0</td>\n",
       "      <td>3.0</td>\n",
       "      <td>58g丽芝士纳宝帝奶酪威化饼干</td>\n",
       "      <td>2017/7/21 15:59</td>\n",
       "      <td>A</td>\n",
       "      <td>已出货未退款</td>\n",
       "      <td>已提现</td>\n",
       "    </tr>\n",
       "    <tr>\n",
       "      <th>57057</th>\n",
       "      <td>DD20170729100247593A10066EA2D</td>\n",
       "      <td>E43A6E078A04134</td>\n",
       "      <td>3.0</td>\n",
       "      <td>3.0</td>\n",
       "      <td>统一冰红茶</td>\n",
       "      <td>2017/11/19 10:28</td>\n",
       "      <td>B</td>\n",
       "      <td>已出货未退款</td>\n",
       "      <td>已提现</td>\n",
       "    </tr>\n",
       "    <tr>\n",
       "      <th>39229</th>\n",
       "      <td>DD20170710171636344184FF0B88E</td>\n",
       "      <td>E43A6E078A04228</td>\n",
       "      <td>4.0</td>\n",
       "      <td>4.0</td>\n",
       "      <td>银鹭八宝粥</td>\n",
       "      <td>2017/10/7 1:29</td>\n",
       "      <td>C</td>\n",
       "      <td>已出货未退款</td>\n",
       "      <td>已提现</td>\n",
       "    </tr>\n",
       "    <tr>\n",
       "      <th>32500</th>\n",
       "      <td>DD2017062507261118A319DEAAAEB</td>\n",
       "      <td>E43A6E078A07631</td>\n",
       "      <td>2.0</td>\n",
       "      <td>2.0</td>\n",
       "      <td>鸭翅</td>\n",
       "      <td>2017/9/15 23:14</td>\n",
       "      <td>D</td>\n",
       "      <td>已出货未退款</td>\n",
       "      <td>已提现</td>\n",
       "    </tr>\n",
       "    <tr>\n",
       "      <th>36351</th>\n",
       "      <td>DD20170816749318639978711189</td>\n",
       "      <td>E43A6E078A06874</td>\n",
       "      <td>7.0</td>\n",
       "      <td>7.0</td>\n",
       "      <td>145g果王迷你山楂包装</td>\n",
       "      <td>2017/9/27 9:19</td>\n",
       "      <td>E</td>\n",
       "      <td>已出货未退款</td>\n",
       "      <td>已提现</td>\n",
       "    </tr>\n",
       "    <tr>\n",
       "      <th>24484</th>\n",
       "      <td>DD201708231710588549B27BA8B48</td>\n",
       "      <td>E43A6E078A04228</td>\n",
       "      <td>3.0</td>\n",
       "      <td>3.0</td>\n",
       "      <td>怡宝纯净水</td>\n",
       "      <td>2017/8/9 20:53</td>\n",
       "      <td>C</td>\n",
       "      <td>已出货未退款</td>\n",
       "      <td>已提现</td>\n",
       "    </tr>\n",
       "    <tr>\n",
       "      <th>56935</th>\n",
       "      <td>DD201707242217297941DC22A7FEC</td>\n",
       "      <td>E43A6E078A06874</td>\n",
       "      <td>5.0</td>\n",
       "      <td>5.0</td>\n",
       "      <td>王老吉（500ml）</td>\n",
       "      <td>2017/11/19 8:37</td>\n",
       "      <td>E</td>\n",
       "      <td>已出货未退款</td>\n",
       "      <td>已提现</td>\n",
       "    </tr>\n",
       "    <tr>\n",
       "      <th>37051</th>\n",
       "      <td>DD201708167493230694055121983</td>\n",
       "      <td>E43A6E078A06874</td>\n",
       "      <td>3.0</td>\n",
       "      <td>3.0</td>\n",
       "      <td>250ml维他原味豆奶</td>\n",
       "      <td>2017/9/29 2:01</td>\n",
       "      <td>E</td>\n",
       "      <td>已出货未退款</td>\n",
       "      <td>已提现</td>\n",
       "    </tr>\n",
       "    <tr>\n",
       "      <th>49493</th>\n",
       "      <td>DD2017081674930739241930418546</td>\n",
       "      <td>E43A6E078A04134</td>\n",
       "      <td>5.5</td>\n",
       "      <td>5.5</td>\n",
       "      <td>430g泰奇八宝粥</td>\n",
       "      <td>2017/11/5 16:08</td>\n",
       "      <td>B</td>\n",
       "      <td>已出货未退款</td>\n",
       "      <td>已提现</td>\n",
       "    </tr>\n",
       "  </tbody>\n",
       "</table>\n",
       "</div>"
      ],
      "text/plain": [
       "                                  订单号             设备ID  应付金额  实际金额  \\\n",
       "6181   DD2017081674930418470069710485  E43A6E078A04172   4.5   4.5   \n",
       "21225   DD201708167493446128401232148  E43A6E078A04172   3.0   3.0   \n",
       "57057   DD20170729100247593A10066EA2D  E43A6E078A04134   3.0   3.0   \n",
       "39229   DD20170710171636344184FF0B88E  E43A6E078A04228   4.0   4.0   \n",
       "32500   DD2017062507261118A319DEAAAEB  E43A6E078A07631   2.0   2.0   \n",
       "36351    DD20170816749318639978711189  E43A6E078A06874   7.0   7.0   \n",
       "24484   DD201708231710588549B27BA8B48  E43A6E078A04228   3.0   3.0   \n",
       "56935   DD201707242217297941DC22A7FEC  E43A6E078A06874   5.0   5.0   \n",
       "37051   DD201708167493230694055121983  E43A6E078A06874   3.0   3.0   \n",
       "49493  DD2017081674930739241930418546  E43A6E078A04134   5.5   5.5   \n",
       "\n",
       "                    商品              支付时间 地点      状态   提现  \n",
       "6181           52g旺旺仙贝   2017/4/24 18:05  A  已出货未退款  已提现  \n",
       "21225  58g丽芝士纳宝帝奶酪威化饼干   2017/7/21 15:59  A  已出货未退款  已提现  \n",
       "57057            统一冰红茶  2017/11/19 10:28  B  已出货未退款  已提现  \n",
       "39229            银鹭八宝粥    2017/10/7 1:29  C  已出货未退款  已提现  \n",
       "32500               鸭翅   2017/9/15 23:14  D  已出货未退款  已提现  \n",
       "36351     145g果王迷你山楂包装    2017/9/27 9:19  E  已出货未退款  已提现  \n",
       "24484            怡宝纯净水    2017/8/9 20:53  C  已出货未退款  已提现  \n",
       "56935       王老吉（500ml）   2017/11/19 8:37  E  已出货未退款  已提现  \n",
       "37051      250ml维他原味豆奶    2017/9/29 2:01  E  已出货未退款  已提现  \n",
       "49493        430g泰奇八宝粥   2017/11/5 16:08  B  已出货未退款  已提现  "
      ]
     },
     "execution_count": 37,
     "metadata": {},
     "output_type": "execute_result"
    }
   ],
   "source": [
    "df1.sample(10)"
   ]
  },
  {
   "cell_type": "code",
   "execution_count": 32,
   "id": "22feffdc",
   "metadata": {},
   "outputs": [
    {
     "data": {
      "text/html": [
       "<div>\n",
       "<style scoped>\n",
       "    .dataframe tbody tr th:only-of-type {\n",
       "        vertical-align: middle;\n",
       "    }\n",
       "\n",
       "    .dataframe tbody tr th {\n",
       "        vertical-align: top;\n",
       "    }\n",
       "\n",
       "    .dataframe thead th {\n",
       "        text-align: right;\n",
       "    }\n",
       "</style>\n",
       "<table border=\"1\" class=\"dataframe\">\n",
       "  <thead>\n",
       "    <tr style=\"text-align: right;\">\n",
       "      <th></th>\n",
       "      <th>商品</th>\n",
       "      <th>大类</th>\n",
       "      <th>二级类</th>\n",
       "    </tr>\n",
       "  </thead>\n",
       "  <tbody>\n",
       "    <tr>\n",
       "      <th>100</th>\n",
       "      <td>脉动（青柠）</td>\n",
       "      <td>饮料</td>\n",
       "      <td>功能饮料</td>\n",
       "    </tr>\n",
       "    <tr>\n",
       "      <th>94</th>\n",
       "      <td>劲仔小鱼（麻辣味）</td>\n",
       "      <td>非饮料</td>\n",
       "      <td>肉干/豆制品/蛋</td>\n",
       "    </tr>\n",
       "    <tr>\n",
       "      <th>293</th>\n",
       "      <td>拿铁咖啡（统一）</td>\n",
       "      <td>饮料</td>\n",
       "      <td>咖啡</td>\n",
       "    </tr>\n",
       "    <tr>\n",
       "      <th>101</th>\n",
       "      <td>脉动（椰子菠萝口味）</td>\n",
       "      <td>饮料</td>\n",
       "      <td>功能饮料</td>\n",
       "    </tr>\n",
       "    <tr>\n",
       "      <th>134</th>\n",
       "      <td>新麦潮天然酵母面包（牛奶风味）</td>\n",
       "      <td>非饮料</td>\n",
       "      <td>饼干糕点</td>\n",
       "    </tr>\n",
       "    <tr>\n",
       "      <th>103</th>\n",
       "      <td>咪咪虾条马来西亚风味</td>\n",
       "      <td>非饮料</td>\n",
       "      <td>膨化食品</td>\n",
       "    </tr>\n",
       "    <tr>\n",
       "      <th>196</th>\n",
       "      <td>34g公仔迷你杯风味排骨味</td>\n",
       "      <td>非饮料</td>\n",
       "      <td>方便速食</td>\n",
       "    </tr>\n",
       "    <tr>\n",
       "      <th>267</th>\n",
       "      <td>百事可乐330ml</td>\n",
       "      <td>饮料</td>\n",
       "      <td>碳酸饮料</td>\n",
       "    </tr>\n",
       "    <tr>\n",
       "      <th>288</th>\n",
       "      <td>秒充</td>\n",
       "      <td>非饮料</td>\n",
       "      <td>其他</td>\n",
       "    </tr>\n",
       "    <tr>\n",
       "      <th>62</th>\n",
       "      <td>68g多力多玉米片爆香热辣味</td>\n",
       "      <td>非饮料</td>\n",
       "      <td>膨化食品</td>\n",
       "    </tr>\n",
       "  </tbody>\n",
       "</table>\n",
       "</div>"
      ],
      "text/plain": [
       "                  商品   大类       二级类\n",
       "100           脉动（青柠）   饮料      功能饮料\n",
       "94         劲仔小鱼（麻辣味）  非饮料  肉干/豆制品/蛋\n",
       "293         拿铁咖啡（统一）   饮料        咖啡\n",
       "101       脉动（椰子菠萝口味）   饮料      功能饮料\n",
       "134  新麦潮天然酵母面包（牛奶风味）  非饮料      饼干糕点\n",
       "103       咪咪虾条马来西亚风味  非饮料      膨化食品\n",
       "196    34g公仔迷你杯风味排骨味  非饮料      方便速食\n",
       "267        百事可乐330ml   饮料      碳酸饮料\n",
       "288               秒充  非饮料        其他\n",
       "62    68g多力多玉米片爆香热辣味  非饮料      膨化食品"
      ]
     },
     "execution_count": 32,
     "metadata": {},
     "output_type": "execute_result"
    }
   ],
   "source": [
    "df2.sample(10)"
   ]
  },
  {
   "cell_type": "code",
   "execution_count": 54,
   "id": "206f87bd",
   "metadata": {},
   "outputs": [],
   "source": [
    "data = pd.merge(df1, df2, on = '商品')\n",
    "data['支付时间'] = pd.to_datetime(data['支付时间'], errors='coerce', format='%Y/%m/%d %H:%M')\n",
    "data = data.dropna(subset=['支付时间'])\n",
    "path = 'merged_data1.csv'\n",
    "data.to_csv(path, index = False)"
   ]
  },
  {
   "cell_type": "code",
   "execution_count": 43,
   "id": "9346bb2d",
   "metadata": {},
   "outputs": [
    {
     "data": {
      "text/plain": [
       "array(['已出货未退款'], dtype=object)"
      ]
     },
     "execution_count": 43,
     "metadata": {},
     "output_type": "execute_result"
    }
   ],
   "source": [
    "np.unique(data.状态)"
   ]
  },
  {
   "cell_type": "code",
   "execution_count": 44,
   "id": "bd0c0795",
   "metadata": {},
   "outputs": [
    {
     "data": {
      "text/plain": [
       "array(['E43A6E078A04134', 'E43A6E078A04172', 'E43A6E078A04228',\n",
       "       'E43A6E078A06874', 'E43A6E078A07631'], dtype=object)"
      ]
     },
     "execution_count": 44,
     "metadata": {},
     "output_type": "execute_result"
    }
   ],
   "source": [
    "np.unique(data.设备ID)"
   ]
  },
  {
   "cell_type": "code",
   "execution_count": 46,
   "id": "20163469",
   "metadata": {},
   "outputs": [
    {
     "data": {
      "text/html": [
       "<div>\n",
       "<style scoped>\n",
       "    .dataframe tbody tr th:only-of-type {\n",
       "        vertical-align: middle;\n",
       "    }\n",
       "\n",
       "    .dataframe tbody tr th {\n",
       "        vertical-align: top;\n",
       "    }\n",
       "\n",
       "    .dataframe thead th {\n",
       "        text-align: right;\n",
       "    }\n",
       "</style>\n",
       "<table border=\"1\" class=\"dataframe\">\n",
       "  <thead>\n",
       "    <tr style=\"text-align: right;\">\n",
       "      <th></th>\n",
       "      <th>订单号</th>\n",
       "      <th>设备ID</th>\n",
       "      <th>应付金额</th>\n",
       "      <th>实际金额</th>\n",
       "      <th>商品</th>\n",
       "      <th>支付时间</th>\n",
       "      <th>地点</th>\n",
       "      <th>状态</th>\n",
       "      <th>提现</th>\n",
       "      <th>大类</th>\n",
       "      <th>二级类</th>\n",
       "    </tr>\n",
       "  </thead>\n",
       "  <tbody>\n",
       "  </tbody>\n",
       "</table>\n",
       "</div>"
      ],
      "text/plain": [
       "Empty DataFrame\n",
       "Columns: [订单号, 设备ID, 应付金额, 实际金额, 商品, 支付时间, 地点, 状态, 提现, 大类, 二级类]\n",
       "Index: []"
      ]
     },
     "execution_count": 46,
     "metadata": {},
     "output_type": "execute_result"
    }
   ],
   "source": [
    "data[data.应付金额 != data.实际金额]"
   ]
  },
  {
   "cell_type": "code",
   "execution_count": 49,
   "id": "c2b3040f",
   "metadata": {},
   "outputs": [],
   "source": [
    "Eq28 = data[data.设备ID == 'E43A6E078A04228']\n",
    "path = 'task1-1C.csv'\n",
    "Eq28.to_csv(path, index = False)"
   ]
  },
  {
   "cell_type": "code",
   "execution_count": 50,
   "id": "ba15f6f9",
   "metadata": {},
   "outputs": [],
   "source": [
    "Eq74 = data[data.设备ID == 'E43A6E078A06874']\n",
    "path = 'task1-1D.csv'\n",
    "Eq74.to_csv(path, index = False)"
   ]
  },
  {
   "cell_type": "code",
   "execution_count": 51,
   "id": "f3651555",
   "metadata": {},
   "outputs": [],
   "source": [
    "Eq31 = data[data.设备ID == 'E43A6E078A07631']\n",
    "path = 'task1-1E.csv'\n",
    "Eq31.to_csv(path, index = False)"
   ]
  }
 ],
 "metadata": {
  "kernelspec": {
   "display_name": "Python 3 (ipykernel)",
   "language": "python",
   "name": "python3"
  },
  "language_info": {
   "codemirror_mode": {
    "name": "ipython",
    "version": 3
   },
   "file_extension": ".py",
   "mimetype": "text/x-python",
   "name": "python",
   "nbconvert_exporter": "python",
   "pygments_lexer": "ipython3",
   "version": "3.11.5"
  }
 },
 "nbformat": 4,
 "nbformat_minor": 5
}
